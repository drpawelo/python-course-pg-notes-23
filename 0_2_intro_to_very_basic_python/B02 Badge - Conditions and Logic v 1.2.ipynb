{
 "cells": [
  {
   "cell_type": "markdown",
   "metadata": {},
   "source": [
    "# Badge 02 - Conditions and Logic"
   ]
  },
  {
   "cell_type": "markdown",
   "metadata": {},
   "source": [
    "note: This is a **JUPYTER NOTEBOOK**. It's a type of website where you can edit and run computer programms (code). You interact with it in your web browser and you can find it via your Learn.\n",
    "\n",
    "1. These blocks here are cells\n",
    "2. There are **TEXT CELLS** like this one with explanations of concepts\n",
    "3. and **CODE CELLS** with Python code (see below). Code cells have a ```In []``` written to the left\n",
    "4. You can **RUN CODE CELLS** by clicking on them and pressing **Shirt + Enter**. When you run a cell code in it is run (it \"happens\", computer will do what you asked for it to do). Results of what your code does will appear underneath the cell.\n",
    "5. As we go through these lessons, please READ text cells, and RUN code cells\n",
    "6. Good luck!\n",
    "\n",
    "✅ Remember to RUN ALL THE CELLS IN ORDER AS YOU GO THROUGH THIS NOTEBOOK (if you skip some, you might see some unexpected errors)."
   ]
  },
  {
   "cell_type": "markdown",
   "metadata": {},
   "source": [
    "# 🎯 Learning objectives:\n",
    "\n",
    "At the end of this badge you will know:\n",
    "\n",
    "- comparing variables with == returns True or False\n",
    "- if-elif-else controlls which lines of code are executed and which are skipped, using True or False values\n",
    "- how to refactor your code so that it is easier to debug\n",
    "- indentation (spaces on the left) indicates how python should understand code\n",
    "- logic combines many Trues and Falses into one value, like: True and True, False or True, not True\n",
    "\n",
    "## 🔜 SPOILER ALERT:\n",
    "\n",
    "You will also understand these lines of code:"
   ]
  },
  {
   "cell_type": "code",
   "execution_count": null,
   "metadata": {},
   "outputs": [],
   "source": [
    "distance = 9\n",
    "name = 'Fiona'\n",
    "in_the_room = True\n",
    "\n",
    "# comparisons\n",
    "print(name == 'Fiona')\n",
    "print('Fiona' != 'Pat')\n",
    "print(30 < 20)\n",
    "print(distance >= 10)\n",
    "print(in_the_room != False) #it is NOT equal to false"
   ]
  },
  {
   "cell_type": "code",
   "execution_count": null,
   "metadata": {},
   "outputs": [],
   "source": [
    "# all together:\n",
    "name = \"Fiona\"\n",
    "is_this_fiona = name == \"Fiona\" # remember, right hand side of = happens first\n",
    "print(is_this_fiona)"
   ]
  },
  {
   "cell_type": "code",
   "execution_count": null,
   "metadata": {},
   "outputs": [],
   "source": [
    "# conditions\n",
    "speed = 10\n",
    "speed_camera_on = True\n",
    "\n",
    "if speed_camera_on == True:  # could be simplified to just  'if speed_camera_on:'\n",
    "    if speed == 0:\n",
    "         print(\"You're not moving\")\n",
    "    elif speed > 20:\n",
    "        print(\"Please slow down, this is a TWENTY IS PLENTY zone\")\n",
    "    else:\n",
    "        print(\"Thank you for driving safely at\",speed,\"miles per hour!\")\n",
    "else:\n",
    "    print(\"Speed camera is off\")"
   ]
  },
  {
   "cell_type": "code",
   "execution_count": null,
   "metadata": {},
   "outputs": [],
   "source": [
    "#logic\n",
    "if name == \"Fiona\" and distance <= 10 and in_the_room:\n",
    "    # is this True? notice that saying just in_the_room is like saying in_the_room == True\n",
    "    print(\"Fiona is present and nearby\")\n",
    "else:\n",
    "    print(\"Person is not around, or not nearby or it's not Fiona\")"
   ]
  },
  {
   "cell_type": "markdown",
   "metadata": {},
   "source": [
    " 🎯 End of learning objectives 🎯"
   ]
  },
  {
   "cell_type": "markdown",
   "metadata": {},
   "source": [
    "## Comparison operator =="
   ]
  },
  {
   "cell_type": "markdown",
   "metadata": {},
   "source": [
    "**COMPARISON OPERATOR ==** often it is very useful to know if two variables hold the same value. That's when we would use a comparison operator ==  (written as 'equals sign' twice). It compares what's on the right side and left side of ```==``` and will return ```True``` if both sides are identical, and ```False``` if they are different."
   ]
  },
  {
   "cell_type": "code",
   "execution_count": null,
   "metadata": {},
   "outputs": [],
   "source": [
    "# you can compare values\n",
    "print( 22 == 22 )\n",
    "print( \"Banana\" == \"Banana\")\n",
    "print(22 == \"Banana\")"
   ]
  },
  {
   "cell_type": "code",
   "execution_count": null,
   "metadata": {},
   "outputs": [],
   "source": [
    "# you can compare values and variables, or two variables\n",
    "age = 23\n",
    "fruit = \"Apple\"\n",
    "\n",
    "print( fruit == age)\n",
    "print( age == 22 )\n",
    "print( age == 23 )\n",
    "print( fruit == \"Banana\" )\n",
    "print( fruit == \"Apple\" )"
   ]
  },
  {
   "cell_type": "code",
   "execution_count": null,
   "metadata": {},
   "outputs": [],
   "source": [
    "#notice that compared values have to be IDENTICAL\n",
    "fruit = \"Apple\"\n",
    "print( fruit == \"apple\" )\n",
    "print( fruit == \"aPPle\" )\n",
    "print( fruit == \"  Apple\" )\n",
    "print( fruit == \"Apple.\" )\n",
    "print( fruit == \"🍎\")"
   ]
  },
  {
   "cell_type": "markdown",
   "metadata": {},
   "source": [
    "## Conditional logic - if something do this else do that "
   ]
  },
  {
   "cell_type": "markdown",
   "metadata": {},
   "source": [
    "Computer programs are most useful if we can control the flow of the program (the order in which lines of code are executed, or indeed which lines of code are executed at all). In all previous code examples all of our code was evaluated, which is quite limitiong. It would mean that each of our programs will have to happens always in the order that it was written. \n",
    "\n",
    "One of the most powerful concepts in programming is that we can control the order in which lines of code will be run (evaluate, happen)."
   ]
  },
  {
   "cell_type": "code",
   "execution_count": null,
   "metadata": {},
   "outputs": [],
   "source": [
    "if True:\n",
    "    print(\"This will happen!\")\n",
    "else:\n",
    "    print(\"Nope, this will never happen!\")"
   ]
  },
  {
   "cell_type": "code",
   "execution_count": null,
   "metadata": {},
   "outputs": [],
   "source": [
    "if 2 == 2:\n",
    "    print(\"This will happen!\")\n",
    "else:\n",
    "    print(\"Nope, this will never happen!\")"
   ]
  },
  {
   "cell_type": "code",
   "execution_count": null,
   "metadata": {},
   "outputs": [],
   "source": [
    "# notice that 2 == 2 is true, so it will evaluate to True (this cell will return True)  \n",
    "2 == 2"
   ]
  },
  {
   "cell_type": "code",
   "execution_count": null,
   "metadata": {},
   "outputs": [],
   "source": [
    "number = 2\n",
    "if number == 3:\n",
    "    print(\"oh? what will happen?\")\n",
    "else:\n",
    "    print(\"oh! or this!\")"
   ]
  },
  {
   "cell_type": "code",
   "execution_count": null,
   "metadata": {},
   "outputs": [],
   "source": [
    "# we'll talk about this later, but \"1999\" and 1999 are not the same, because their type is different (string and int)\n",
    "year_as_string = \"19\"+\"99\"\n",
    "if year_as_string == 1999: # this code will be evaluated (run) to check if it is True \n",
    "    print(\"oh? what will happen?\")\n",
    "else:\n",
    "    print(\"oh! or this!\")"
   ]
  },
  {
   "cell_type": "code",
   "execution_count": null,
   "metadata": {},
   "outputs": [],
   "source": [
    "should_i_say_hello = True\n",
    "if should_i_say_hello: # the first branch of if will happen if the value here is True\n",
    "    print(\"Hello!\")\n",
    "else:\n",
    "    print(\"Bye!\")"
   ]
  },
  {
   "cell_type": "markdown",
   "metadata": {},
   "source": [
    "format of an if statement is as follows:\n",
    "\n",
    "```\n",
    "if <something that is True or False> :\n",
    "    <code that will happen if it is True>\n",
    "else:\n",
    "    <code that will happen if it is False>\n",
    "```\n",
    "\n",
    "We already know that the result of a comparison operator == is always True or False, so most of the time if else statements will look like this: "
   ]
  },
  {
   "cell_type": "code",
   "execution_count": null,
   "metadata": {},
   "outputs": [],
   "source": [
    "number = 5\n",
    "if number == 7:\n",
    "    print(\"This is a lucky number!\")\n",
    "else:\n",
    "    print(\"This is just a number!\")"
   ]
  },
  {
   "cell_type": "code",
   "execution_count": null,
   "metadata": {},
   "outputs": [],
   "source": [
    "# in a well written code there should be a way to reach each branch of if-else statement. \n",
    "# What if we change variable value in above code?    \n",
    "number = 7\n",
    "if number == 7:\n",
    "    print(\"This is a lucky number!\")\n",
    "else:\n",
    "    print(\"This is just a number!\")"
   ]
  },
  {
   "cell_type": "markdown",
   "metadata": {},
   "source": [
    "These logical statements can be much more complicated. You can also use an \"else if\" statements, in python these are written as ```elif``` "
   ]
  },
  {
   "cell_type": "code",
   "execution_count": null,
   "metadata": {},
   "outputs": [],
   "source": [
    "day = input(\"What day is it today?\")\n",
    "if day == \"Sunday\":\n",
    "    print(\"Yay! It's weekend!\")\n",
    "elif day == \"Saturday\":\n",
    "    print(\"Yay! It's weekend!\")\n",
    "elif day == \"Friday\":\n",
    "    print(\"It's a weekday!\")\n",
    "elif day == \"Thursday\":\n",
    "    print(\"It's a weekday!\")\n",
    "elif day == \"Wednesday\":\n",
    "    print(\"It's a weekday!\")\n",
    "elif day == \"Tuesday\":\n",
    "    print(\"It's a weekday!\")\n",
    "elif day == \"Monday\":\n",
    "    print(\"It's a weekday!\")\n",
    "else:\n",
    "    print(\"You typed\",day,\"which does not look like a day of the week!\")\n",
    "    "
   ]
  },
  {
   "cell_type": "raw",
   "metadata": {},
   "source": [
    "You probably noticed that some parts of the above code feel a bit messy and repetitive. That's why we can use logical statement OR here "
   ]
  },
  {
   "cell_type": "code",
   "execution_count": null,
   "metadata": {},
   "outputs": [],
   "source": [
    "# This is a cleaner version of the above code (skipping input here, but feel free to add it)\n",
    "day = \"Saturday\"\n",
    "if day == \"Sunday\" or day == \"Saturday\":\n",
    "    print(\"Yay! It's weekend!\")\n",
    "elif day == \"Friday\"or day == \"Thursday\" or day == \"Wednesday\" or day == \"Tuesday\"or day == \"Monday\":\n",
    "    print(\"It's a weekday!\")\n",
    "else:\n",
    "    print(\"You typed\",day,\"which does not look like a day of the week!\")\n",
    "\n",
    "# try to change values in variables to reach a different result"
   ]
  },
  {
   "cell_type": "markdown",
   "metadata": {},
   "source": [
    "Notice that only one section of the code is evaluated. Once if statement reaches something that is True, if will evaluate following code and jump to the end.\n",
    "\n",
    "Often if statements evaluate a number of different conditions"
   ]
  },
  {
   "cell_type": "code",
   "execution_count": null,
   "metadata": {},
   "outputs": [],
   "source": [
    "# in if-elif-else statement, only ONE block of code will be executed: THE FIRST CONDITION THAT WAS TRUE\n",
    "number = 7\n",
    "if number >= 3:\n",
    "    print(\"number is larger or equal to 3\") # THIS WILL PRINT\n",
    "elif number >= 0:\n",
    "    print(\"this is a positive number\") # this won't\n",
    "elif number == 7:\n",
    "    print(\"this is seven!\") # this won't"
   ]
  },
  {
   "cell_type": "code",
   "execution_count": null,
   "metadata": {},
   "outputs": [],
   "source": [
    "# but if these were completely independent IF statements, each condition would be considered separately\n",
    "number = 7\n",
    "if number >= 3:\n",
    "    print(\"number is larger or equal to 3\")\n",
    "    \n",
    "if number >= 0:\n",
    "    print(\"this is a positive number\")\n",
    "    \n",
    "if number == 7:\n",
    "    print(\"this is seven!\")"
   ]
  },
  {
   "cell_type": "markdown",
   "metadata": {},
   "source": [
    "Look carefully at above examples. It is a good practice to try to figure out what a code will do BEFORE you run it. You can do it in your head or on paper."
   ]
  },
  {
   "cell_type": "code",
   "execution_count": null,
   "metadata": {},
   "outputs": [],
   "source": [
    "# more complex example: imagine a shop opened every day 8-22 apart of Sundays \n",
    "time_now = 6\n",
    "day_of_the_week = \"Sunday\"\n",
    "\n",
    "if day_of_the_week == \"Sunday\":\n",
    "    print(\"Shop is completely closed today\")\n",
    "elif time_now < 8 or time_now  > 22:\n",
    "    print(\"Shop is not opened at this time today\")\n",
    "else:\n",
    "    print(\"shop is opened\")\n",
    "    \n",
    "print(\"Thank you for checking\")\n",
    "\n",
    "# try to change values in variables to reach a different result"
   ]
  },
  {
   "cell_type": "markdown",
   "metadata": {},
   "source": [
    "Notice that above, because first condition ```day_of_the_week == \"Sunday\"``` is True, the code will never even go and check if ```time_now < 8 or time_now  > 22```. It will print the \"Shop is closed today\" and then skip to the end of the if else statement and print \"Thank you for checking\".\n",
    "\n",
    "**IN IF-ELIF-ELSE ORDER MATTERS**: It is important to arrange your if and elif statements in order of importance, because only code under first True condition will be run."
   ]
  },
  {
   "cell_type": "markdown",
   "metadata": {},
   "source": [
    "### Indentation (empty space in your code at the left of the line)"
   ]
  },
  {
   "cell_type": "markdown",
   "metadata": {},
   "source": [
    "Many languages use brackets or special words to indicate where a conditional statement like if else starts and end. Python uses indentation (empty space) instead. Notice that above there is a Tab to the left of every block of code following an if else statement. That's how python knows that the following lines of code should only happen in certain conditions.\n",
    "\n",
    "One way to visualise that is a train line where the train can be redirected right or left based on how the train tracks are set up.\n",
    "\n",
    "Often there are better ways to do this, but you could write code like this:"
   ]
  },
  {
   "cell_type": "code",
   "execution_count": null,
   "metadata": {},
   "outputs": [],
   "source": [
    "number = 8 \n",
    "#change 8 to another number and run this line of code many times. Try to reach each branch with print()\n",
    "\n",
    "if number > 1:\n",
    "    if number < 10:\n",
    "        if number <= 4:\n",
    "            print(\"number is between 1 and 3\")\n",
    "        elif number <= 7:\n",
    "            print(\"number is between 4 and 7\")\n",
    "        else:\n",
    "            print(\"number is between 8 and 9\")\n",
    "    else: \n",
    "        print(\"number is larger than 10\")\n",
    "else:\n",
    "    print(\"number is smaller or equal to 1\")"
   ]
  },
  {
   "cell_type": "markdown",
   "metadata": {},
   "source": [
    "As you can see above, indentation (spacing on the left) is crucial in Python. It is used to identify where your if else statements start and end.\n",
    "\n",
    "Always indent with TAB key, not with spaces. It is much safer.\n",
    "\n",
    "So if your indentation is wrong you will encounter another range of errors, see below:"
   ]
  },
  {
   "cell_type": "code",
   "execution_count": null,
   "metadata": {},
   "outputs": [],
   "source": [
    "number = 3\n",
    "if number > 1:\n",
    "print(\"number is larger than 1\")\n",
    "\n",
    "#this will error. FIRST Read the error and ONLY THEN try to fix it"
   ]
  },
  {
   "cell_type": "markdown",
   "metadata": {},
   "source": [
    "### Logic, simple introduction - and, or, not"
   ]
  },
  {
   "cell_type": "markdown",
   "metadata": {},
   "source": [
    "You can use logic operators (and, or, not) to build more complicated statements. A very good way to do this well is to rpototype it on paper, or otherwise consider all the possible cases."
   ]
  },
  {
   "cell_type": "code",
   "execution_count": null,
   "metadata": {},
   "outputs": [],
   "source": [
    "# you have already seen some simple logic operations\n",
    "number = 8\n",
    "if number > 1 and number < 10:\n",
    "    print(\"This number is between 1 and 10\")"
   ]
  },
  {
   "cell_type": "code",
   "execution_count": null,
   "metadata": {},
   "outputs": [],
   "source": [
    "number = 8\n",
    "if number == 2 or number == 4 or number == 6 or number == 8:\n",
    "    print(\"This number is even and small\")"
   ]
  },
  {
   "cell_type": "code",
   "execution_count": null,
   "metadata": {},
   "outputs": [],
   "source": [
    "number = 8\n",
    "if number > 1 and not number > 1:\n",
    "    print(\"This will never happen\")\n",
    "else:\n",
    "    print(\"This will always happen\")\n",
    "# do you know why?"
   ]
  },
  {
   "cell_type": "code",
   "execution_count": null,
   "metadata": {},
   "outputs": [],
   "source": [
    "number = 1\n",
    "if number > 1 or not number >= 1:\n",
    "    print(\"This will always happen\")\n",
    "else:\n",
    "    print(\"This will never happen\")\n",
    "# do you know why?"
   ]
  },
  {
   "cell_type": "markdown",
   "metadata": {},
   "source": [
    "In general, the rules are:\n",
    "\n",
    "- **and** needs both sides to be true\n",
    "- **or** needs one or more sides to be true\n",
    "- **not** only looks at the right side and changes it from True to False, or from False to True"
   ]
  },
  {
   "cell_type": "code",
   "execution_count": null,
   "metadata": {},
   "outputs": [],
   "source": [
    "print(\"How does AND work?\")\n",
    "print(\"True and True gives:\", True and True)\n",
    "print(\"True and False gives:\", True and False)\n",
    "print(\"False and True gives:\", False and True)\n",
    "print(\"False and False gives:\", False and False)"
   ]
  },
  {
   "cell_type": "code",
   "execution_count": null,
   "metadata": {},
   "outputs": [],
   "source": [
    "print(\"How does OR work?\")\n",
    "print(\"True or True gives:\", True or True)\n",
    "print(\"True or False gives:\", True or False)\n",
    "print(\"False or True gives:\", False or True)\n",
    "print(\"False or False gives:\", False or False)"
   ]
  },
  {
   "cell_type": "code",
   "execution_count": null,
   "metadata": {},
   "outputs": [],
   "source": [
    "print(\"How does NOT work?\")\n",
    "print(\"not True gives:\", not True)\n",
    "print(\"not False gives:\", not False)"
   ]
  },
  {
   "cell_type": "markdown",
   "metadata": {},
   "source": [
    "## ⭐️⭐️⭐️💥 What you learned in this session: Three stars and a wish "
   ]
  },
  {
   "cell_type": "markdown",
   "metadata": {},
   "source": [
    "**In yoru own words** write in your Learn diary:\n",
    "\n",
    "- 3 things you yould like to remember from this badge\n",
    "- 1 thing you wish to understand better in the future or a question you'd like to ask"
   ]
  },
  {
   "cell_type": "markdown",
   "metadata": {},
   "source": [
    "# ⛏ Bonus Minitask: Model a real-life scenario with conditions and logic\n",
    "\n",
    "- Pick a real-life scenario of doing something, see examples below\n",
    "- use if-elif-else where appropriate with and/or/not operators and help the user to find out if they can make a cup of tea, or if they still need something  \n",
    "\n",
    "Here are some other examples you could choose to build:\n",
    "\n",
    "- Maps app: create variables describe your speed of walking, cycling and driving a car (eg. in miles per hour). Then write a program that asks the user how far they want to go (eg. 30 mikes), and then asks them by what means of transport (e. walk/bus/car). Finally tell them how long it will take to get to the destination by that mode of transport.\n",
    "- Stock Market: write a program that asks user for the price of a stock when they bought it, price when they sold it, and the number of the shares they have. Show a different message depending if they made money or lost money, and tell them exactly how much.\n",
    "\n",
    "See example below\n",
    "\n",
    "Remember to every now and then save your progress (File > Save, or a keyboard shortcut) "
   ]
  },
  {
   "cell_type": "code",
   "execution_count": null,
   "metadata": {},
   "outputs": [],
   "source": [
    "# here you can write your code (to add more cells, use + symbol in top menu)"
   ]
  },
  {
   "cell_type": "code",
   "execution_count": null,
   "metadata": {},
   "outputs": [],
   "source": [
    "# example: \n",
    "# Bus-pass app: Write code that checks if you took your bus pass and if you can buy a bus ticket.\n",
    "# if you can buy a ticket, subtract ticket price from yoru bus pass.\n",
    "\n",
    "credit_on_your_bus_card = 7.80\n",
    "price_of_a_ticket = 2.20\n",
    "\n",
    "# when you run this cell, your credit_on_your_bus_card will be reset to its original value"
   ]
  },
  {
   "cell_type": "code",
   "execution_count": null,
   "metadata": {},
   "outputs": [],
   "source": [
    "# example continued. When you run this cell a few times, you will it work different each time\n",
    "# as in: each time you run this cell, a new ticket will be bought, untill you're out of money on the bus card\n",
    "# try running this cell many times.\n",
    "user_input = input(\"Did you take your buspass? (type Y or N)\")\n",
    "if (user_input == \"Y\"):\n",
    "    do_you_have_your_bus_pass = True\n",
    "elif (user_input == \"N\"):\n",
    "    do_you_have_your_bus_pass = False\n",
    "else:\n",
    "    print(\"You need to type Y or N. I'll assume you do not have your bus pass\")\n",
    "    do_you_have_your_bus_pass = False\n",
    "    \n",
    "if do_you_have_your_bus_pass == False:\n",
    "    print(\"Oh no! You forgot your bus pass\")\n",
    "elif credit_on_your_bus_card <  price_of_a_ticket:\n",
    "    print(\"Oh no! You have only\",credit_on_your_bus_card,\"on your bus pass.\")\n",
    "    money_you_are_missing = round(price_of_a_ticket - credit_on_your_bus_card,2)\n",
    "    # note: round(some_number,2) rounds to 2 decimal places. \n",
    "    print(\"That's not enough for a ticket. You're missing\", money_you_are_missing)\n",
    "else:\n",
    "    print(\"Subtracting bus fee from your bus pass\")\n",
    "    credit_on_your_bus_card = round(credit_on_your_bus_card - price_of_a_ticket,2) \n",
    "    print(\"Success!. You can get on the bus, enjoy\")\n",
    "    print(\"Remaining Credit:\", credit_on_your_bus_card)"
   ]
  },
  {
   "cell_type": "markdown",
   "metadata": {},
   "source": [
    "\n",
    "\n",
    "\n",
    "\n",
    "\n",
    "\n",
    "\n",
    "\n",
    "\n",
    "\n",
    "\n",
    "\n",
    "\n",
    "\n",
    "\n",
    "\n",
    "\n",
    "\n",
    "\n",
    "\n",
    "\n",
    "\n"
   ]
  }
 ],
 "metadata": {
  "kernelspec": {
   "display_name": "Python 3",
   "language": "python",
   "name": "python3"
  },
  "language_info": {
   "codemirror_mode": {
    "name": "ipython",
    "version": 3
   },
   "file_extension": ".py",
   "mimetype": "text/x-python",
   "name": "python",
   "nbconvert_exporter": "python",
   "pygments_lexer": "ipython3",
   "version": "3.8.8"
  }
 },
 "nbformat": 4,
 "nbformat_minor": 2
}
