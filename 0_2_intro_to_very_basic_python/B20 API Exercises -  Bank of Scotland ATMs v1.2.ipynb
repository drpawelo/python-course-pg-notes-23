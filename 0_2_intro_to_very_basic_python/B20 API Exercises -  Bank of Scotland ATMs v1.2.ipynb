{
 "cells": [
  {
   "cell_type": "markdown",
   "metadata": {},
   "source": [
    "# Bank of Scotland Cash Machine (ATM) API\n",
    "\n",
    "https://api.bankofscotland.co.uk/open-banking/v2.2/atms\n",
    "\n",
    "This API is not limited and has no key. Yay! You can use it as much as you'd like,\n",
    "\n",
    "Try to look at the example task that answers a question: \n",
    "\n",
    "- How many ATMs are there in Glasgow?\n",
    "\n",
    "Then ask some other simple questions and try to answer them with code. \n",
    "\n",
    "- which towns in Fife (CountrySubDivision) have more than 4 ATMS\n",
    "- what is the percent of all ATMs that are wheelchair accessible?\n",
    "- what other questions can you answer with this data? Can you visualise the answers?"
   ]
  },
  {
   "cell_type": "code",
   "execution_count": null,
   "metadata": {},
   "outputs": [],
   "source": [
    "# here's an example response of this API\n",
    "# reading hint:when you click on a bracket, it becomes green and its closing-opening counterpart also becomes green\n",
    "\n",
    "# when you try to read it, ask how would you print the TownName of the first ATM?\n",
    "# it would look like this:\n",
    "# print(example_api_response[\"data\"][0][\"Brand\"][0][\"ATM\"][0]['Location']['PostalAddress']['TownName'])\n",
    "\n",
    "example_api_response = {'meta': {'LastUpdated': '2020-11-20T11:59:10.095Z',\n",
    "                                  'TotalResults': 422,\n",
    "                                  'Agreement': 'Use of the APIs and any related data ...',\n",
    "                                  'TermsOfUse': 'https://www.openbanking.org.uk/terms'},\n",
    "                        'data': [{'Brand': \n",
    "                                     [ { 'BrandName': 'Bank Of Scotland',\n",
    "                                         'ATM': \n",
    "                                              [{'Identification': 'BFF7BC11',\n",
    "                                              'SupportedLanguages': ['eng', 'spa', 'ger', 'fre'],\n",
    "                                              'ATMServices': ['PINUnblock',\n",
    "                                               'Balance',\n",
    "                                               'BillPayments',\n",
    "                                               'CashWithdrawal',\n",
    "                                               'FastCash',\n",
    "                                               'MobilePhoneTopUp',\n",
    "                                               'PINChange',\n",
    "                                               'MiniStatement'],\n",
    "                                              'Accessibility': ['WheelchairAccess'],\n",
    "                                              'SupportedCurrencies': ['GBP'],\n",
    "                                              'MinimumPossibleAmount': '10',\n",
    "                                              'Branch': {'Identification': '80453100'},\n",
    "                                              'Location': {'LocationCategory': ['BranchExternal'],\n",
    "                                               'Site': {'Identification': '80453100'},\n",
    "                                               'PostalAddress': {'AddressLine': ['136 BUCHANAN STREET; BALFRON'],\n",
    "                                                'BuildingNumber': 'BOS BRANCH',\n",
    "                                                'StreetName': '136 BUCHANAN STREET',\n",
    "                                                'TownName': 'GLASGOW',\n",
    "                                                'CountrySubDivision': ['GLASGOW'],\n",
    "                                                'Country': 'GB',\n",
    "                                                'PostCode': 'G63 0TG',\n",
    "                                                'GeoLocation': {'GeographicCoordinates': {'Latitude': '56.071629',\n",
    "                                                  'Longitude': '-4.336911'}\n",
    "                                                               }\n",
    "                                                                }\n",
    "                                                          }\n",
    "                                                 },\n",
    "                                                {},\n",
    "                                                {}\n",
    "                                              ]\n",
    "                                       }\n",
    "                                     ]\n",
    "                                 }\n",
    "                                ]\n",
    "                       }\n",
    "\n",
    "print(example_api_response[\"data\"][0][\"Brand\"][0][\"ATM\"][0]['Location']['PostalAddress']['TownName'])"
   ]
  },
  {
   "cell_type": "code",
   "execution_count": null,
   "metadata": {},
   "outputs": [],
   "source": [
    "# this function is already written for you\n",
    "\n",
    "import requests\n",
    "import json \n",
    "\n",
    "def get_list_of_atms():\n",
    "    # response_atms_json = requests.request(\"GET\",\"https://api.bankofscotland.co.uk/open-banking/v2.2/atms\").json()\n",
    "\n",
    "    # we had some problems with over-requesting this API and getting banned from it during the lab\n",
    "    # so we here will 'pretend' it's an api, but actually we will get the content from a file \n",
    "    \n",
    "    try:\n",
    "        with open('data/bankofscotland.json') as json_file:  # this is how you load a file\n",
    "            response_atms_json = json.load(json_file) \n",
    "            list_of_atms = response_atms_json[\"data\"][0][\"Brand\"][0][\"ATM\"] # this is needed to get to the ATMs\n",
    "            return list_of_atms\n",
    "    except:\n",
    "        print(\"Error. do you have bankofscotland.json file in your data/ folder?\")\n",
    "\n",
    "assert  type( get_list_of_atms()) is list # check if result is a list\n",
    "assert  len( get_list_of_atms()) > 0 # check if there are any items\n",
    "assert 'eng' in get_list_of_atms()[0]['SupportedLanguages'] # check if first ATM has english as a language\n",
    "print(\"tests passed\")"
   ]
  },
  {
   "cell_type": "code",
   "execution_count": null,
   "metadata": {},
   "outputs": [],
   "source": [
    "get_list_of_atms()"
   ]
  },
  {
   "cell_type": "code",
   "execution_count": null,
   "metadata": {},
   "outputs": [],
   "source": [
    "# this function you will need to finish\n",
    "\n",
    "def get_number_of_atms_in_this_town(all_atms, town):\n",
    "    return -1 # TODO, here write your answer, it will return a number\n",
    "\n",
    "demo_data = [{'Identification': 'BFF7BC11', \n",
    "              'Location': { 'PostalAddress': {'StreetName': 'THE CROSS', 'TownName': 'PAISLEY'}}},\n",
    "             {'Identification': 'BFF7BC12', \n",
    "              'Location': { 'PostalAddress': {'StreetName': 'TOWN SQUARE', 'TownName': 'FALKIRK'}}}]\n",
    "\n",
    "assert get_number_of_atms_in_this_town(demo_data, 'FALKIRK') == 1\n",
    "assert get_number_of_atms_in_this_town(demo_data, 'Falkirk') == 1\n",
    "assert get_number_of_atms_in_this_town(demo_data, 'Glasgow') == 0\n",
    "print(\"tests passed\")"
   ]
  },
  {
   "cell_type": "code",
   "execution_count": null,
   "metadata": {},
   "outputs": [],
   "source": [
    "# this function you will need to finish\n",
    "\n",
    "def number_of_atms_as_sentence(count_of_atms, town):\n",
    "     return f\"TODO: here write your answer\"\n",
    "\n",
    "assert number_of_atms_as_sentence(20, 'Glasgow') == \"There are 20 ATMs of Bank Of Scotland in Glasgow\"\n",
    "assert number_of_atms_as_sentence(20, 'GLASGOW') == \"There are 20 ATMs of Bank Of Scotland in Glasgow\"\n",
    "assert number_of_atms_as_sentence(2, 'Falkirk') == \"There are 2 ATMs of Bank Of Scotland in Falkirk\"\n",
    "print(\"tests passed\")"
   ]
  },
  {
   "cell_type": "code",
   "execution_count": null,
   "metadata": {},
   "outputs": [],
   "source": [
    "# this function is already written for you, but will only work once you complete above functions\n",
    "\n",
    "def answer_demo_question_1():\n",
    "    a_town = 'Glasgow'\n",
    "    all_atms = get_list_of_atms() \n",
    "    number_of_atms_in_town = get_number_of_atms_in_this_town( all_atms, a_town)\n",
    "    sentence_with_findings =  number_of_atms_as_sentence(number_of_atms_in_town, a_town) \n",
    "    print(sentence_with_findings)\n",
    "    # if you were creating a graph, this is where you would create and show it\n",
    "    \n",
    "answer_demo_question_1() # no need to test top-most function, just call it "
   ]
  },
  {
   "cell_type": "markdown",
   "metadata": {},
   "source": [
    "# Challanges for you:\n",
    "\n",
    "- which towns in Fife (CountrySubDivision) have more than 4 ATMS\n",
    "- what is the percent of all ATMs that are wheelchair accessible?\n",
    "- what other questions can you answer with this data? Can you visualise the answers?"
   ]
  },
  {
   "cell_type": "code",
   "execution_count": null,
   "metadata": {},
   "outputs": [],
   "source": []
  }
 ],
 "metadata": {
  "kernelspec": {
   "display_name": "Python 3",
   "language": "python",
   "name": "python3"
  },
  "language_info": {
   "codemirror_mode": {
    "name": "ipython",
    "version": 3
   },
   "file_extension": ".py",
   "mimetype": "text/x-python",
   "name": "python",
   "nbconvert_exporter": "python",
   "pygments_lexer": "ipython3",
   "version": "3.7.4"
  }
 },
 "nbformat": 4,
 "nbformat_minor": 2
}
