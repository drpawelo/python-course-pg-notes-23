{
 "cells": [
  {
   "cell_type": "markdown",
   "metadata": {},
   "source": [
    "<h2>Welcome to your first tutorial in Predictive Analytics and Modelling with Data.</h2>\n",
    "\n",
    "This week, we will get familiar with the Noteable environment and how to use it. We will also use this opportunity to refresh some of your coding skills.\n",
    "\n",
    "If you'd like to learn more about Noteable you can check their documentation [here](https://noteable.edina.ac.uk/documentation/). Basically, it provides a cloud-based Jupyter notebook environment which is linked to your student account. You access it via Learn which automatically brings you to your personal student workspace. Any files saved there can be accessed by you from anywhere via browser access, which makes it very convenient as it doesn't rely on your local files, Python version upkeep etc.\n",
    "\n",
    "Sharing files with your classmates can be done either by downloading/uploading them to your space, or via the GitHub plugin at the top right of your space.\n",
    "\n",
    "While working on the notebooks in the labs, feel free to chat with your neighbour and help each other out. I consider coding a collaborative experience and believe that explaining code to each other is the best way of learning (and debugging!).\n"
   ]
  },
  {
   "cell_type": "markdown",
   "metadata": {},
   "source": [
    "# Part 1"
   ]
  },
  {
   "cell_type": "markdown",
   "metadata": {
    "pycharm": {
     "name": "#%% md\n"
    }
   },
   "source": [
    "# Exercise 1\n",
    "\n",
    "An easy one to start with. Calculate the number of letters in your name."
   ]
  },
  {
   "cell_type": "code",
   "execution_count": 1,
   "metadata": {
    "pycharm": {
     "name": "#%%\n"
    }
   },
   "outputs": [],
   "source": [
    "# Add your code here. Maybe create a function?"
   ]
  },
  {
   "cell_type": "markdown",
   "metadata": {
    "pycharm": {
     "name": "#%% md\n"
    }
   },
   "source": [
    "# Exercise 2\n",
    "\n",
    "The second exercise focuses on arithmetic and arrays. Find the sum of the elements of two arrays. You can use any array of your choice. Maybe this is an opportunity to try out some random number generator if you like or you can just hard code them."
   ]
  },
  {
   "cell_type": "code",
   "execution_count": 2,
   "metadata": {
    "pycharm": {
     "name": "#%%\n"
    }
   },
   "outputs": [],
   "source": [
    "# Add your code here. "
   ]
  },
  {
   "cell_type": "markdown",
   "metadata": {
    "pycharm": {
     "name": "#%% md\n"
    }
   },
   "source": [
    "# Exercise 3\n",
    "\n",
    "Let's try something more applied. Calculate how many years you need to obtain a certain amount by starting with an initial amount and a given interest rate. Use compound interest, i.e. you get interest on your interest."
   ]
  },
  {
   "cell_type": "markdown",
   "metadata": {
    "pycharm": {
     "name": "#%%\n"
    }
   },
   "source": [
    "If you're a little lost, ask your neighbour for help and work together. If you're still unsure how to get started, check the tip below.\n",
    "\n",
    "<details>\n",
    "<summary>Click here for a tip! </summary>\n",
    "\n",
    "Don't overthink this problem. A simple way of approaching this is to think about a loop which checks whether your amount is still below the target and then keeps adding one year of added interest rate to it. No need to try fancy interest rate formulas if you don't want to.\n",
    "\n",
    "</details>"
   ]
  },
  {
   "cell_type": "code",
   "execution_count": null,
   "metadata": {},
   "outputs": [],
   "source": [
    "# Add your code here. "
   ]
  },
  {
   "cell_type": "markdown",
   "metadata": {
    "pycharm": {
     "name": "#%% md\n"
    }
   },
   "source": [
    "# Exercise 4\n",
    "\n",
    "Remove the duplicates from a list. You can create a list of elements of your choice. Maybe try the names of all the classmates at your table, adding a few duplicate names here and there."
   ]
  },
  {
   "cell_type": "code",
   "execution_count": 12,
   "metadata": {
    "pycharm": {
     "name": "#%%\n"
    }
   },
   "outputs": [],
   "source": [
    "# Add your code here. "
   ]
  },
  {
   "cell_type": "markdown",
   "metadata": {
    "pycharm": {
     "name": "#%% md\n"
    }
   },
   "source": [
    "# Exercise 5\n",
    "\n",
    "Find the total number of credits taught by a particular lecturer at a university.\n",
    "\n",
    "The input is two dictionaries: one containing the courses and their organisers, and one containing the courses and their credits (points)."
   ]
  },
  {
   "cell_type": "markdown",
   "metadata": {},
   "source": [
    "If you need a bit of help and your classmates are lost as well, check the tip below.\n",
    "\n",
    "<details>\n",
    "<summary>Click here for a tip! </summary>\n",
    "\n",
    "What we're trying to practice here is the creation of dictionaries and looking through them comparing keys, so don't think too much about what to put into them.\n",
    "    \n",
    "Create a small number of random courses with arbitrary credits assigned to them and a couple of lecturers who teach one or multiple of those courses.\n",
    "    \n",
    "Then build a loop function to look through the keys of the dictionaries, summing up the points if the name of the organiser you're looking at in that loop instance is the same as the name for that course.\n",
    "\n",
    "</details>"
   ]
  },
  {
   "cell_type": "code",
   "execution_count": 14,
   "metadata": {
    "pycharm": {
     "name": "#%%\n"
    }
   },
   "outputs": [],
   "source": [
    "# Add your code here. "
   ]
  },
  {
   "cell_type": "markdown",
   "metadata": {},
   "source": [
    "# Part 2\n",
    "\n",
    "Time to have a look at some data. To practice, we'll be working with the [wine dataset](https://scikit-learn.org/stable/modules/generated/sklearn.datasets.load_wine.html) which comes with sklearn.\n",
    "\n",
    "We will be looking into some basic pandas, numpy and scikit learn functions so load in those libraries to get started. The documentations of those libraries are extensive and often updated. So, I recommend checking them regularly while practicting to keep in mind what is possible. "
   ]
  },
  {
   "cell_type": "code",
   "execution_count": 20,
   "metadata": {},
   "outputs": [],
   "source": [
    "from sklearn \\\n",
    "    import datasets as ds\n",
    "# sklearn includes many function and tools, it requires users to specify which tool or toolkit to import\n",
    "# 'datasets' is the toolkit we'll be using today\n",
    "\n",
    "import pandas as pd\n",
    "import numpy as np\n",
    "\n",
    "data_wine = ds.load_wine() "
   ]
  },
  {
   "cell_type": "markdown",
   "metadata": {},
   "source": [
    "# Exercise 6\n",
    "\n",
    "Retrieve all the names of the independent variables in data_wine."
   ]
  },
  {
   "cell_type": "code",
   "execution_count": null,
   "metadata": {},
   "outputs": [],
   "source": [
    "# Add your code here"
   ]
  },
  {
   "cell_type": "markdown",
   "metadata": {},
   "source": [
    "# Exercise 7\n",
    "\n",
    "Create a function that calculates the mean and median of a given variable in the dataset. Test your function with a variable of your choice. You can use numpy or pandas for this, it's up to you."
   ]
  },
  {
   "cell_type": "code",
   "execution_count": null,
   "metadata": {},
   "outputs": [],
   "source": [
    "# Add your code here"
   ]
  }
 ],
 "metadata": {
  "kernelspec": {
   "display_name": "Python 3 (ipykernel)",
   "language": "python",
   "name": "python3"
  },
  "language_info": {
   "codemirror_mode": {
    "name": "ipython",
    "version": 3
   },
   "file_extension": ".py",
   "mimetype": "text/x-python",
   "name": "python",
   "nbconvert_exporter": "python",
   "pygments_lexer": "ipython3",
   "version": "3.9.13"
  }
 },
 "nbformat": 4,
 "nbformat_minor": 1
}
