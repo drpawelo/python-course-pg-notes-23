{
 "cells": [
  {
   "cell_type": "markdown",
   "id": "4b183e9f",
   "metadata": {},
   "source": [
    "# Notebook version of what we did during lecture\n",
    "\n",
    "+ plus now the deck shuffles, so it's actually fun to watch!"
   ]
  },
  {
   "cell_type": "code",
   "execution_count": 27,
   "id": "7967c542",
   "metadata": {},
   "outputs": [
    {
     "data": {
      "text/plain": [
       "'A or Spades'"
      ]
     },
     "execution_count": 27,
     "metadata": {},
     "output_type": "execute_result"
    }
   ],
   "source": [
    "class Card:\n",
    "    def __init__(self, suit, rank):\n",
    "        self.suit = suit\n",
    "        self.rank = rank\n",
    "    \n",
    "    def as_string(self):\n",
    "        return f\"{self.rank} or {self.suit}s\"\n",
    "\n",
    "# a small test:\n",
    "Card(\"Spade\",\"A\").as_string()"
   ]
  },
  {
   "cell_type": "code",
   "execution_count": 28,
   "id": "88ddb4ca",
   "metadata": {},
   "outputs": [],
   "source": [
    "class Player:\n",
    "    def __init__(self, name):\n",
    "        self.name = name\n",
    "        self.cards = []\n",
    "        \n",
    "    def receive_a_card(self, card):\n",
    "        self.cards.append(card)"
   ]
  },
  {
   "cell_type": "code",
   "execution_count": 35,
   "id": "58904fdc",
   "metadata": {},
   "outputs": [],
   "source": [
    "class Deck:\n",
    "    suits = [\"Diamond\", \"Club\", \"Heart\", \"Spade\"]\n",
    "    ranks  = [\"2\",\"3\",\"4\",\"5\",\"6\",\"7\",\"8\",\"9\",\"10\",\"J\",\"Q\",\"K\",\"A\"]\n",
    "\n",
    "    def __init__(self):\n",
    "        self.cards = self.create_new_cards()\n",
    "    \n",
    "    def create_new_cards(self):\n",
    "        new_cards = []\n",
    "        for suit in self.suits:\n",
    "            for rank in self.ranks:\n",
    "                new_cards.append( Card(suit, rank))\n",
    "        return new_cards\n",
    "    \n",
    "    def get_a_card(self):\n",
    "        return self.cards.pop()\n",
    "    \n",
    "    # great suggestion during the lecture! I'm adding this, It's used by Table\n",
    "    def shuffle_cards(self):\n",
    "        import random\n",
    "        random.shuffle(self.cards)\n",
    "\n",
    "    \n"
   ]
  },
  {
   "cell_type": "code",
   "execution_count": null,
   "id": "b3c2f1ec",
   "metadata": {},
   "outputs": [],
   "source": []
  },
  {
   "cell_type": "code",
   "execution_count": 38,
   "id": "76152f8b",
   "metadata": {},
   "outputs": [],
   "source": [
    "class Table:\n",
    "    def __init__(self, players_names ):\n",
    "        self.players = self.create_players_from_names(players_names)\n",
    "        self.deck = Deck()\n",
    "        self.deck.shuffle_cards(); # shuffle new deck once it's created!\n",
    "    \n",
    "    def create_players_from_names(self, names):\n",
    "        new_players = []\n",
    "        for name in names:\n",
    "            new_players.append( Player(name) ) \n",
    "        return new_players\n",
    "    \n",
    "    def play_the_game(self):\n",
    "        print(\"start the game\")\n",
    "        self.deal_everyone_a_card()\n",
    "        winner = self.who_has_the_highest_first_card()\n",
    "        print(f\"winner is {winner.name} with card {winner.cards[0].as_string()}\")\n",
    "\n",
    "    def deal_everyone_a_card(self):\n",
    "        for player in self.players:\n",
    "            a_card = self.deck.get_a_card()\n",
    "            player.receive_a_card(a_card)\n",
    "            print(f\"{player.name} was dealt {a_card.as_string()}\")\n",
    "            # I forgot to mention this furing the lecture: in objects you can use dot notation like this:\n",
    "            # someobject.somevariable  for example: player1.name        \n",
    "            \n",
    "    def who_has_the_highest_first_card(self): \n",
    "        winner = self.players[0]\n",
    "        for player in self.players:\n",
    "            if self.which_card_is_higher(winner.cards[0], player.cards[0]) == player.cards[0]:\n",
    "                winner = player\n",
    "        return winner\n",
    "    \n",
    "    def which_card_is_higher(self, card1, card2):\n",
    "        if Deck.ranks.index(card1.rank) > Deck.ranks.index(card2.rank):\n",
    "            return card1\n",
    "        elif Deck.ranks.index(card1.rank) < Deck.ranks.index(card2.rank):\n",
    "            return card2\n",
    "        else:\n",
    "            if Deck.suits.index(card1.suit) >= Deck.suits.index(card2.suit):\n",
    "                return card1\n",
    "            else:\n",
    "                return card2\n",
    "\n"
   ]
  },
  {
   "cell_type": "code",
   "execution_count": null,
   "id": "e7144542",
   "metadata": {},
   "outputs": [],
   "source": []
  },
  {
   "cell_type": "code",
   "execution_count": 39,
   "id": "b1946457",
   "metadata": {},
   "outputs": [
    {
     "name": "stdout",
     "output_type": "stream",
     "text": [
      "start the game\n",
      "Mia was dealt Q or Spades\n",
      "Jessica was dealt 4 or Hearts\n",
      "Fran was dealt 5 or Spades\n",
      "winner is Mia with card Q or Spades\n"
     ]
    }
   ],
   "source": [
    "a_table = Table([\"Mia\", \"Jessica\", \"Fran\"])\n",
    "a_table.play_the_game()\n"
   ]
  },
  {
   "cell_type": "code",
   "execution_count": 44,
   "id": "9e1e2c88",
   "metadata": {},
   "outputs": [],
   "source": []
  },
  {
   "cell_type": "code",
   "execution_count": null,
   "id": "d60953ac",
   "metadata": {},
   "outputs": [],
   "source": []
  }
 ],
 "metadata": {
  "kernelspec": {
   "display_name": "Python 3 (ipykernel)",
   "language": "python",
   "name": "python3"
  },
  "language_info": {
   "codemirror_mode": {
    "name": "ipython",
    "version": 3
   },
   "file_extension": ".py",
   "mimetype": "text/x-python",
   "name": "python",
   "nbconvert_exporter": "python",
   "pygments_lexer": "ipython3",
   "version": "3.9.13"
  }
 },
 "nbformat": 4,
 "nbformat_minor": 5
}
