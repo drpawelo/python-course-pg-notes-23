{
 "cells": [
  {
   "cell_type": "code",
   "execution_count": null,
   "id": "4c5f83ff",
   "metadata": {},
   "outputs": [],
   "source": [
    "# !pip3 install nltk"
   ]
  },
  {
   "cell_type": "code",
   "execution_count": null,
   "id": "9439538e",
   "metadata": {},
   "outputs": [],
   "source": [
    "import nltk\n",
    "nltk.download('words')\n",
    "\n",
    "from nltk.corpus import words\n",
    "\n",
    "def get_complicated_words():\n",
    "    return [word for word in words.words() if len(word) == 5]\n",
    "\n",
    "complicated_words = get_complicated_words()\n",
    "print(len(complicated_words))\n",
    "print(complicated_words[0:20])"
   ]
  },
  {
   "cell_type": "code",
   "execution_count": null,
   "id": "4b999612",
   "metadata": {},
   "outputs": [],
   "source": []
  },
  {
   "cell_type": "code",
   "execution_count": null,
   "id": "f45aa432",
   "metadata": {},
   "outputs": [],
   "source": [
    "def load_file_named(filename):\n",
    "    file = open(filename)\n",
    "    loaded_data =  file.read()\n",
    "    file.close()\n",
    "    return loaded_data\n",
    "\n",
    "# simplified word set is from  https://xkcd.com/simplewriter/words.js\n",
    "def get_simple_words_all():\n",
    "    return load_file_named(\"./xkcd_simple_words.csv\").split(\",\")\n",
    "\n",
    "simple_words = get_simple_words_all()\n",
    "print(len(simple_words))\n",
    "print(simple_words[0:20])"
   ]
  },
  {
   "cell_type": "markdown",
   "id": "f704becb",
   "metadata": {},
   "source": [
    "# In this notebook: \n",
    "\n",
    "### Empty Functions and Tests\n",
    "\n",
    "You will be given a set of tests written for functions that do not have 'bodies'. Your job will be to write the bodies fo those functions.\n",
    "\n",
    "1. Read and Run tests. Agree with your partner if you both understand what you need to do. \n",
    "2. Write the body of the function, run it, then check if tests are now working.\n",
    "3. If you are pair programming, change who is driving, and move to next task."
   ]
  },
  {
   "cell_type": "code",
   "execution_count": null,
   "id": "43d67565",
   "metadata": {
    "nbgrader": {
     "grade": false,
     "grade_id": "cell-8a16bb4f11258ca6",
     "locked": false,
     "schema_version": 3,
     "solution": true,
     "task": false
    }
   },
   "outputs": [],
   "source": [
    "def just_words_of_one_length(all_words, length):\n",
    "    ### BEGIN SOLUTION    \n",
    "    words_with_x_letters = [word.lower() \n",
    "                            for word in all_words\n",
    "                           if len(word)==length]\n",
    "    return words_with_x_letters\n",
    "    ### END SOLUTION\n",
    "\n",
    "\n",
    "print(just_words_of_one_length([\"banana\",\"apple\", \"kiwi\", \"plum\"], 4))\n",
    "print(just_words_of_one_length([\"banana\",\"apple\", \"kiwi\", \"plum\"], 5))\n",
    "print(just_words_of_one_length([\"banana\",\"apple\", \"kiwi\", \"plum\"], 3))"
   ]
  },
  {
   "cell_type": "code",
   "execution_count": null,
   "id": "c7eba7b1",
   "metadata": {},
   "outputs": [],
   "source": [
    "assert just_words_of_one_length([\"banana\",\"apple\", \"kiwi\", \"plum\"], 4) == [\"kiwi\", \"plum\"]\n",
    "assert just_words_of_one_length([\"banana\",\"apple\", \"kiwi\", \"plum\"], 7) == []\n",
    "print('tests passed')"
   ]
  },
  {
   "cell_type": "code",
   "execution_count": null,
   "id": "34e394f2",
   "metadata": {},
   "outputs": [],
   "source": []
  },
  {
   "cell_type": "code",
   "execution_count": null,
   "id": "3d4cf34d",
   "metadata": {},
   "outputs": [],
   "source": []
  },
  {
   "cell_type": "code",
   "execution_count": null,
   "id": "eb457683",
   "metadata": {},
   "outputs": [],
   "source": []
  },
  {
   "cell_type": "code",
   "execution_count": null,
   "id": "3a637922",
   "metadata": {
    "nbgrader": {
     "grade": false,
     "grade_id": "cell-266a2219c82fa2fd",
     "locked": false,
     "schema_version": 3,
     "solution": true,
     "task": false
    }
   },
   "outputs": [],
   "source": [
    "# hint: use get_simple_words_from_file() and just_words_of_one_length()\n",
    "# to get all words of length 5\n",
    "\n",
    "def get_simple_words_wordle():\n",
    "    ### BEGIN SOLUTION\n",
    "    return just_words_of_one_length(get_simple_words_all(), 5)\n",
    "    ### END SOLUTION\n",
    "\n",
    "\n",
    "print(get_simple_words_wordle()[0:3])\n",
    "print(len(get_simple_words_wordle()))"
   ]
  },
  {
   "cell_type": "code",
   "execution_count": null,
   "id": "ff941874",
   "metadata": {},
   "outputs": [],
   "source": [
    "assert get_simple_words_wordle()[0:3] == ['seems', 'party', 'minds']\n",
    "assert len(get_simple_words_wordle()) == 662\n",
    "print('tests passed')"
   ]
  },
  {
   "cell_type": "code",
   "execution_count": null,
   "id": "688374a5",
   "metadata": {},
   "outputs": [],
   "source": [
    "# let's setup a variable for later\n",
    "wordle_list = get_simple_words_wordle()"
   ]
  },
  {
   "cell_type": "code",
   "execution_count": null,
   "id": "5bcab748",
   "metadata": {
    "nbgrader": {
     "grade": false,
     "grade_id": "cell-30e440a811c05d44",
     "locked": false,
     "schema_version": 3,
     "solution": true,
     "task": false
    }
   },
   "outputs": [],
   "source": [
    "def words_with_letter(all_words, letter):\n",
    "    ### BEGIN SOLUTION\n",
    "    keep_these = [word \n",
    "                    for word in all_words\n",
    "                   if word.count(letter) > 0]\n",
    "    return keep_these\n",
    "    ### END SOLUTION\n",
    "\n",
    "\n",
    "print(words_with_letter(['seems', 'party', 'minds'], 's'))\n",
    "print(words_with_letter(wordle_list, 'q'))"
   ]
  },
  {
   "cell_type": "code",
   "execution_count": null,
   "id": "48ec10ed",
   "metadata": {},
   "outputs": [],
   "source": [
    "assert words_with_letter(['seems', 'party', 'minds'], 's') == ['seems', 'minds']\n",
    "assert words_with_letter(['seems', 'party', 'minds'], 'p') == ['party']\n",
    "assert len(words_with_letter(wordle_list, 'z')) == 4\n",
    "print('tests passed')"
   ]
  },
  {
   "cell_type": "code",
   "execution_count": null,
   "id": "47c0652a",
   "metadata": {},
   "outputs": [],
   "source": [
    "# see it work\n",
    "word_list_z = words_with_letter(wordle_list, \"z\")\n",
    "print(\"words with letter z\",len(word_list_z))\n",
    "print(word_list_z)\n",
    "\n",
    "word_list_e = words_with_letter(wordle_list, \"e\")\n",
    "print(\"words with letter e\",len(word_list_e))\n",
    "print(word_list_e)"
   ]
  },
  {
   "cell_type": "code",
   "execution_count": null,
   "id": "17a3ec6f",
   "metadata": {
    "nbgrader": {
     "grade": false,
     "grade_id": "cell-efafb507b95335cf",
     "locked": false,
     "schema_version": 3,
     "solution": true,
     "task": false
    }
   },
   "outputs": [],
   "source": [
    "def words_with_letter_at_index(all_words, letter, index):\n",
    "    ### BEGIN SOLUTION\n",
    "    keep_these = [word \n",
    "                   for word in all_words\n",
    "                   if word[index] == letter]\n",
    "    return keep_these\n",
    "    ### END SOLUTION\n",
    "\n",
    "\n",
    "words_with_letter_at_index(['seems', 'party', 'minds', 'steer'], 's', 0)"
   ]
  },
  {
   "cell_type": "code",
   "execution_count": null,
   "id": "8088061e",
   "metadata": {},
   "outputs": [],
   "source": [
    "assert words_with_letter_at_index(['seems', 'party', 'minds', 'steer'], 's', 0) == ['seems', 'steer']\n",
    "assert words_with_letter_at_index(['seems', 'party', 'minds', 'steer'], 'a', 1) == ['party']\n",
    "assert words_with_letter_at_index(['seems', 'party', 'minds', 'steer'], 'a', -1) == []\n",
    "print('tests passed')"
   ]
  },
  {
   "cell_type": "code",
   "execution_count": null,
   "id": "7ef47923",
   "metadata": {},
   "outputs": [],
   "source": [
    "# see it work\n",
    "word_list_q0 = words_with_letter_at_index(wordle_list, \"q\", 0)\n",
    "print(\"words starting with letter q\",len(word_list_q0))\n",
    "print(word_list_q0)"
   ]
  },
  {
   "cell_type": "code",
   "execution_count": null,
   "id": "d075dc3b",
   "metadata": {},
   "outputs": [],
   "source": [
    "word_list_q1 = words_with_letter_at_index(wordle_list, \"q\", 1)\n",
    "print(\"words with second letter being q\",len(word_list_q1))\n",
    "print(word_list_q1)"
   ]
  },
  {
   "cell_type": "code",
   "execution_count": null,
   "id": "60f61892",
   "metadata": {},
   "outputs": [],
   "source": [
    "word_list = words_with_letter_at_index(wordle_list, \"u\", 0)\n",
    "print(\"words starting with letter u\",len(word_list))\n",
    "print(word_list)"
   ]
  },
  {
   "cell_type": "code",
   "execution_count": null,
   "id": "f5829f6b",
   "metadata": {},
   "outputs": [],
   "source": [
    "word_list = words_with_letter_at_index(wordle_list, \"e\", -1)\n",
    "print(\"words ending with letter e\",len(word_list))\n",
    "print(word_list)"
   ]
  },
  {
   "cell_type": "code",
   "execution_count": null,
   "id": "9b4cdcd6",
   "metadata": {
    "nbgrader": {
     "grade": false,
     "grade_id": "cell-6de4ae0ee2fdf2d4",
     "locked": false,
     "schema_version": 3,
     "solution": true,
     "task": false
    }
   },
   "outputs": [],
   "source": [
    "# this will be useful for the 'grey ticks' (or the . symbols)\n",
    "# when letter is in the word, but at a different position\n",
    "# note in tests what happens if letter is there twice\n",
    "\n",
    "# spots <- secret\n",
    "\n",
    "# osaka -< guess\n",
    "# ..___\n",
    "\n",
    "# slime -< guess\n",
    "# *____\n",
    "\n",
    "# floss -< guess\n",
    "# __*.*\n",
    "\n",
    "\n",
    "def words_with_letter_but_not_index(all_words, letter, index):\n",
    "    ### BEGIN SOLUTION\n",
    "    keep_these = [word \n",
    "                   for word in all_words\n",
    "                   if word.count(letter) > 0 and word[index] != letter or\n",
    "                      word.count(letter) > 1 and word[index] == letter\n",
    "                 ]\n",
    "    return keep_these\n",
    "    ### END SOLUTION\n",
    "\n",
    "\n",
    "some_words = ['seems', 'party', 'minds', 'steer']\n",
    "print(words_with_letter_but_not_index(some_words, 's', 0))"
   ]
  },
  {
   "cell_type": "code",
   "execution_count": null,
   "id": "4ada26f2",
   "metadata": {},
   "outputs": [],
   "source": [
    "some_words = ['seems', 'party', 'minds', 'steer']\n",
    "assert words_with_letter_but_not_index(some_words, 's', 1) == ['seems','minds','steer'] \n",
    "assert words_with_letter_but_not_index(some_words, 's', 0) == ['seems','minds'] # important!\n",
    "assert words_with_letter_but_not_index(some_words, 'a', 1) == []\n",
    "print('tests passed')"
   ]
  },
  {
   "cell_type": "code",
   "execution_count": null,
   "id": "faf7d6cd",
   "metadata": {},
   "outputs": [],
   "source": [
    "# see it work\n",
    "word_list = words_with_letter_but_not_index(wordle_list, \"u\", 0)\n",
    "print(\"containing e, but not starting with it\",len(word_list))\n",
    "print(word_list)"
   ]
  },
  {
   "cell_type": "code",
   "execution_count": null,
   "id": "dcddd2d7",
   "metadata": {},
   "outputs": [],
   "source": [
    "word_list = words_with_letter_but_not_index(wordle_list, \"f\", 0)\n",
    "print(\"containing f, but not starting with it\",len(word_list))\n",
    "print(word_list)"
   ]
  },
  {
   "cell_type": "code",
   "execution_count": null,
   "id": "76d23e24",
   "metadata": {
    "nbgrader": {
     "grade": false,
     "grade_id": "cell-e932f8264e4255dd",
     "locked": false,
     "schema_version": 3,
     "solution": true,
     "task": false
    }
   },
   "outputs": [],
   "source": [
    "# final piece of the puzzle: when we know a prticular letter is NOT in the solution\n",
    "def words_with_no_letter(all_words, letter):\n",
    "    ### BEGIN SOLUTION\n",
    "    keep_these = [word \n",
    "                    for word in all_words\n",
    "                   if word.count(letter) == 0 ]\n",
    "    return keep_these\n",
    "    ### END SOLUTION\n",
    "\n",
    "\n",
    "print(words_with_no_letter(some_words, 'e'))"
   ]
  },
  {
   "cell_type": "code",
   "execution_count": null,
   "id": "00d3dbfd",
   "metadata": {},
   "outputs": [],
   "source": [
    "some_words = ['seems', 'party', 'minds', 'steer']\n",
    "assert words_with_no_letter(some_words, 's') == ['party'] \n",
    "assert words_with_no_letter(some_words, 'e') == ['party','minds']\n",
    "assert words_with_no_letter(some_words, 'z') == ['seems', 'party', 'minds', 'steer']\n",
    "print('tests passed')"
   ]
  },
  {
   "cell_type": "code",
   "execution_count": null,
   "id": "5ccbd03f",
   "metadata": {},
   "outputs": [],
   "source": [
    "word_list = words_with_no_letter(wordle_list, \"e\")\n",
    "print(\"words without e\",len(word_list))\n",
    "print(word_list)"
   ]
  },
  {
   "cell_type": "markdown",
   "id": "364dd9ae",
   "metadata": {},
   "source": [
    "## Let's dry-run an example game:\n",
    "\n",
    "We will do some work for the computer. We know which letters can give us GUESS `!` or WRONG_PLACE `.`, and we will ignore all BAD_GUESS `-`\n",
    "\n",
    "(spoiler, answer is: ⭐️BUYER⭐️)"
   ]
  },
  {
   "cell_type": "code",
   "execution_count": null,
   "id": "457abf93",
   "metadata": {},
   "outputs": [],
   "source": []
  },
  {
   "cell_type": "code",
   "execution_count": null,
   "id": "40d44657",
   "metadata": {},
   "outputs": [],
   "source": [
    "# BUYER - secret\n",
    "# BEANS - guess\n",
    "# !.--- - feedback\n",
    "\n",
    "print(\"all words: \", len(wordle_list))\n",
    "\n",
    "# each letter of a 'feedback'  can be understood as a subset of words that 'agree' with it:\n",
    "\n",
    "# first ! symbol\n",
    "b_at_0_words = words_with_letter_at_index(wordle_list, \"b\", 0)\n",
    "print(\"for hint 1:\", len(b_at_0_words))\n",
    "\n",
    "# second . symbol\n",
    "e_somewhere_but_not_at_1_words = words_with_letter_but_not_index(wordle_list, \"e\", 1)\n",
    "print(\"for hint 2:\",len(e_somewhere_but_not_at_1_words))\n",
    "\n",
    "# overlap:\n",
    "leftover_words = [word\n",
    "           for word in wordle_list\n",
    "           if word in b_at_0_words and\n",
    "              word in e_somewhere_but_not_at_1_words]\n",
    "\n",
    "print(len(leftover_words))\n",
    "print(leftover_words)"
   ]
  },
  {
   "cell_type": "markdown",
   "id": "8b4505b3",
   "metadata": {},
   "source": [
    "We can see above only 17 words match both of these feedbacks!"
   ]
  },
  {
   "cell_type": "markdown",
   "id": "30cf773a",
   "metadata": {},
   "source": [
    "## Another example guess:\n",
    "\n",
    "so let's try another try of a first guess (remember, answer is BUYER):\n",
    "BROKE"
   ]
  },
  {
   "cell_type": "code",
   "execution_count": null,
   "id": "bebb4774",
   "metadata": {},
   "outputs": [],
   "source": [
    "# BUYER - secret\n",
    "# BROKE - guess\n",
    "# !.--. - feedback\n",
    "\n",
    "# the first !\n",
    "b_at_0_words = words_with_letter_at_index(wordle_list, \"b\", 0)\n",
    "print(\"hint 1\",len(b_at_0_words))\n",
    "\n",
    "# second .\n",
    "r_but_not_at_1_words = words_with_letter_but_not_index(wordle_list, \"r\", 1)\n",
    "print(\"hint 2\",len(r_but_not_at_1_words))\n",
    "\n",
    "# the end .\n",
    "e_but_not_at_4_words = words_with_letter_but_not_index(wordle_list, \"e\", 4)\n",
    "print(\"hint 3\",len(e_but_not_at_4_words))\n",
    "\n",
    "# overlap:\n",
    "leftover_words = [word\n",
    "           for word in wordle_list\n",
    "           if word in b_at_0_words and\n",
    "              word in r_but_not_at_1_words and\n",
    "              word in e_but_not_at_4_words]\n",
    "print(\"combined hints\", len(leftover_words))\n",
    "print(leftover_words)"
   ]
  },
  {
   "cell_type": "code",
   "execution_count": null,
   "id": "7dafad31",
   "metadata": {},
   "outputs": [],
   "source": [
    "# but if we combined both of those guessess, we would have\n",
    "\n",
    "# BUYER - secret\n",
    "\n",
    "# BEANS - guess\n",
    "# !.--- - feedback\n",
    "\n",
    "# BROKE - guess\n",
    "# !.--. - feedback\n",
    "\n",
    "# overlap:\n",
    "leftover_words = [word\n",
    "           for word in wordle_list\n",
    "           if word in b_at_0_words and\n",
    "              word in e_somewhere_but_not_at_1_words and\n",
    "              word in b_at_0_words and\n",
    "              word in r_but_not_at_1_words and\n",
    "              word in e_but_not_at_4_words]\n",
    "\n",
    "print(len(leftover_words))\n",
    "print(leftover_words)"
   ]
  },
  {
   "cell_type": "code",
   "execution_count": null,
   "id": "41beeb3b",
   "metadata": {},
   "outputs": [],
   "source": []
  },
  {
   "cell_type": "markdown",
   "id": "5c84012f",
   "metadata": {},
   "source": [
    "To clean this up let's have a look at how we loop through all the feedback subsets to find overlap in some sets of words.\n",
    "\n",
    "Here's an example game (with a few more guessess...)"
   ]
  },
  {
   "cell_type": "code",
   "execution_count": null,
   "id": "b0dc3d9a",
   "metadata": {},
   "outputs": [],
   "source": [
    "include_groups = []\n",
    "\n",
    "# BUYER - secret\n",
    "# BEANS - guess\n",
    "# !.---\n",
    "\n",
    "include_groups.append(words_with_letter_at_index(wordle_list, \"b\", 0))\n",
    "include_groups.append(words_with_letter_but_not_index(wordle_list, \"e\", 1))\n",
    "\n",
    "# BROKE - guess\n",
    "# !.--. - feedback\n",
    "\n",
    "include_groups.append(words_with_letter_at_index(wordle_list, \"b\", 0))\n",
    "include_groups.append(words_with_letter_but_not_index(wordle_list, \"r\", 1))\n",
    "include_groups.append(words_with_letter_but_not_index(wordle_list, \"e\", 4))\n",
    "\n",
    "# third guess:\n",
    "# BLUES\n",
    "# !-.!-\n",
    "\n",
    "include_groups.append(words_with_letter_at_index(wordle_list, \"b\", 0))\n",
    "include_groups.append(words_with_letter_but_not_index(wordle_list, \"u\", 2))\n",
    "include_groups.append(words_with_letter_at_index(wordle_list, \"e\", 3))\n",
    "\n",
    "\n",
    "# for each round of feedback, remove words that do not match it:\n",
    "leftover_words = wordle_list\n",
    "for include_group in include_groups:\n",
    "    print(f\"words left: {len(leftover_words):>5}\")\n",
    "    leftover_words = [word\n",
    "           for word in leftover_words\n",
    "           if word in include_group]\n",
    "    \n",
    "print(leftover_words)\n",
    "\n",
    "# if there is one word left, that's it, we guessed the word!"
   ]
  },
  {
   "cell_type": "markdown",
   "id": "25c7d00d",
   "metadata": {},
   "source": [
    "Now, let's clean up that foreloop at the end, into a function:"
   ]
  },
  {
   "cell_type": "code",
   "execution_count": null,
   "id": "a7a0d745",
   "metadata": {
    "nbgrader": {
     "grade": false,
     "grade_id": "cell-5ad93fe48b33885e",
     "locked": false,
     "schema_version": 3,
     "solution": true,
     "task": false
    }
   },
   "outputs": [],
   "source": [
    "def overlap_word_lists(lists_with_words):\n",
    "    ### BEGIN SOLUTION\n",
    "    result_so_far = set(lists_with_words[0])\n",
    "    for one_list in lists_with_words[1:]:\n",
    "        result_so_far.intersection_update(one_list) # intersection_update gets overlap between two sets\n",
    "    return set(result_so_far)\n",
    "    ### END SOLUTION\n",
    "\n",
    "\n",
    "    \n",
    "list1 = [\"aa\", \"bb\", \"cc\",\"dd\"]\n",
    "list2 = [\"aa\", \"cc\",\"dd\",\"ff\"]\n",
    "list3 = [ \"cc\", \"dd\", \"ff\"]\n",
    "\n",
    "print(overlap_word_lists([list1, list2, list3]))\n",
    "print(overlap_word_lists([list1, list2]))\n",
    "print(overlap_word_lists([list1, list3]))\n",
    "print(overlap_word_lists([list2, list3]))"
   ]
  },
  {
   "cell_type": "code",
   "execution_count": null,
   "id": "22f83995",
   "metadata": {},
   "outputs": [],
   "source": [
    "assert overlap_word_lists([list1, list2, list3]) == set([\"cc\",\"dd\"])\n",
    "assert overlap_word_lists([list1, list2]) == set([\"aa\",\"cc\",\"dd\"])\n",
    "assert overlap_word_lists([list1, list3]) == set([\"cc\",\"dd\"])\n",
    "assert overlap_word_lists([list2, list3]) == set([\"cc\",\"dd\",\"ff\"])\n",
    "print('tests passed')"
   ]
  },
  {
   "cell_type": "markdown",
   "id": "10ed4adb",
   "metadata": {},
   "source": [
    "Next step is to try figuring out what should the feedback be when we know the secret and when we know the guess.\n",
    "\n",
    "Let's do it in stages: first for one letter of the guess, and then for the whole guess."
   ]
  },
  {
   "cell_type": "code",
   "execution_count": null,
   "id": "fdadd029",
   "metadata": {
    "nbgrader": {
     "grade": false,
     "grade_id": "cell-f952b4356686eb2a",
     "locked": false,
     "schema_version": 3,
     "solution": true,
     "task": false
    }
   },
   "outputs": [],
   "source": [
    "def get_letter_feedback(letter, at_index, secret):\n",
    "    ### BEGIN SOLUTION\n",
    "    if (secret[at_index] == letter):\n",
    "        return \"*\"\n",
    "    elif (secret.count(letter) > 0):\n",
    "        return \".\"\n",
    "    else:\n",
    "        return \"_\"\n",
    "    ### END SOLUTION\n",
    "\n",
    "    \n",
    "print(get_letter_feedback(\"a\", 0, \"basil\"))\n",
    "print(get_letter_feedback(\"a\", 1, \"basil\"))\n",
    "print(get_letter_feedback(\"a\", 4, \"basil\"))\n",
    "print(get_letter_feedback(\"z\", 0, \"basil\"))\n",
    "print(get_letter_feedback(\"l\", 0, \"lists\"))"
   ]
  },
  {
   "cell_type": "code",
   "execution_count": null,
   "id": "f030f61b",
   "metadata": {},
   "outputs": [],
   "source": [
    "print(get_letter_feedback(\"s\", 0, \"basis\"))\n",
    "print(get_letter_feedback(\"s\", 4, \"basis\"))"
   ]
  },
  {
   "cell_type": "code",
   "execution_count": null,
   "id": "81952168",
   "metadata": {},
   "outputs": [],
   "source": [
    "assert get_letter_feedback(\"a\", 0, \"basil\") == \".\"\n",
    "assert get_letter_feedback(\"a\", 1, \"basil\") == \"*\"\n",
    "assert get_letter_feedback(\"a\", 4, \"basil\") == \".\"\n",
    "\n",
    "assert get_letter_feedback(\"z\", 0, \"basil\") == \"_\"\n",
    "assert get_letter_feedback(\"z\", 1, \"basil\") == \"_\"\n",
    "assert get_letter_feedback(\"z\", 4, \"basil\") == \"_\"\n",
    "\n",
    "assert get_letter_feedback(\"s\", 4, \"basis\") == \"*\"\n",
    "print(\"tests passed!\")"
   ]
  },
  {
   "cell_type": "code",
   "execution_count": null,
   "id": "0162c5d1",
   "metadata": {
    "nbgrader": {
     "grade": false,
     "grade_id": "cell-f6202c43fd3c6786",
     "locked": false,
     "schema_version": 3,
     "solution": true,
     "task": false
    }
   },
   "outputs": [],
   "source": [
    "def get_word_feedback(guess, secret):\n",
    "    ### BEGIN SOLUTION\n",
    "    feedback = [get_letter_feedback(letter, index, secret) \n",
    "                for index, letter in enumerate(guess)]\n",
    "    return \"\".join(feedback)\n",
    "    ### END SOLUTION\n",
    "\n",
    "print(get_word_feedback(\"baker\",\"basil\"))\n",
    "print(get_word_feedback(\"lists\",\"basil\"))\n",
    "\n",
    "# hint, remember \"\".join(some_words) trick?\n",
    "# hint, remember what enumerate(some_list) does?"
   ]
  },
  {
   "cell_type": "code",
   "execution_count": null,
   "id": "e316b48b",
   "metadata": {},
   "outputs": [],
   "source": [
    "assert get_word_feedback(\"baker\",\"basil\") == \"**___\"\n",
    "assert get_word_feedback(\"bakes\",\"basil\") == \"**__.\"\n",
    "assert get_word_feedback(\"lists\",\"basil\") == \"..*_.\"\n",
    "assert get_word_feedback(\"mount\",\"basil\") == \"_____\"\n",
    "\n",
    "print(\"tests passed!\")"
   ]
  },
  {
   "cell_type": "code",
   "execution_count": null,
   "id": "534375ad",
   "metadata": {
    "nbgrader": {
     "grade": false,
     "grade_id": "cell-1444b00535ae1ba5",
     "locked": false,
     "schema_version": 3,
     "solution": true,
     "task": false
    }
   },
   "outputs": [],
   "source": [
    "import random\n",
    "\n",
    "def get_random_word_from(word_set):\n",
    "    ### BEGIN SOLUTION\n",
    "    return random.choice(list(word_set))\n",
    "    ### END SOLUTION\n",
    "\n",
    "# unfortunately there is no real way to test randomness\n",
    "# but look at the result and run this cell again\n",
    "\n",
    "answer = get_random_word_from([\"aa\", \"bb\", \"cc\",\"dd\"])\n",
    "print(answer)\n",
    "answer = get_random_word_from([\"aa\", \"bb\", \"cc\",\"dd\"])\n",
    "print(answer)\n",
    "answer = get_random_word_from([\"aa\", \"bb\", \"cc\",\"dd\"])\n",
    "print(answer)"
   ]
  },
  {
   "cell_type": "code",
   "execution_count": null,
   "id": "02ef4057",
   "metadata": {},
   "outputs": [],
   "source": [
    "# make sure it also works for sets! (you might have to cast to list)\n",
    "answer = get_random_word_from({\"aa\", \"bb\", \"cc\",\"dd\"})\n",
    "print(answer)"
   ]
  },
  {
   "cell_type": "code",
   "execution_count": null,
   "id": "fcc4a83c",
   "metadata": {
    "nbgrader": {
     "grade": false,
     "grade_id": "cell-1082ff9677fafc9a",
     "locked": false,
     "schema_version": 3,
     "solution": true,
     "task": false
    }
   },
   "outputs": [],
   "source": [
    "# hint, use get_simple_words_wordle()\n",
    "def get_random_wordle_word():\n",
    "    ### BEGIN SOLUTION\n",
    "    return get_random_word_from(get_simple_words_wordle())\n",
    "    ### END SOLUTION\n",
    "\n",
    "# unfortunately there is no real way to test randomness\n",
    "# but look at the result and run this cell again\n",
    "\n",
    "answer = get_random_wordle_word()\n",
    "print(answer)\n",
    "guess1 = get_random_wordle_word()\n",
    "print(guess1)\n",
    "answer = get_random_wordle_word()\n",
    "print(answer)"
   ]
  },
  {
   "cell_type": "markdown",
   "id": "a84297c8",
   "metadata": {},
   "source": [
    "Now let's try combining feedback in *_._* form with our functions words_with_letter_at_index\n",
    "and words_with_letter_but_not_index and words_with_no_letter"
   ]
  },
  {
   "cell_type": "code",
   "execution_count": null,
   "id": "ac37a1f8",
   "metadata": {
    "nbgrader": {
     "grade": false,
     "grade_id": "cell-5998fc7bcf750bcc",
     "locked": false,
     "schema_version": 3,
     "solution": true,
     "task": false
    }
   },
   "outputs": [],
   "source": [
    "# hint, remember about enumerate(some_string)\n",
    "# hint use your functions from before\n",
    "\n",
    "def only_words_that_fit_feedback(all_words, secret, feedback_string):\n",
    "    ### BEGIN SOLUTION\n",
    "    include_groups = []\n",
    "    for at_index,feedback_letter in enumerate(feedback_string):\n",
    "        if feedback_letter == \"*\":\n",
    "            include_groups.append(words_with_letter_at_index(all_words,secret[at_index], at_index))\n",
    "        elif feedback_letter == \".\":\n",
    "            include_groups.append(words_with_letter_but_not_index(all_words,secret[at_index], at_index))\n",
    "        else:\n",
    "            include_groups.append(words_with_no_letter(all_words,secret[at_index]))            \n",
    "    return overlap_word_lists(include_groups)\n",
    "    ### END SOLUTION\n",
    "    \n",
    "print(only_words_that_fit_feedback([\"pinky\", \"baker\", \"butch\"], 'bonds',\"*____\"))\n",
    "print(only_words_that_fit_feedback([\"pinky\", \"baker\", \"butch\"], 'bonds',\"__*__\"))\n",
    "print(only_words_that_fit_feedback([\"pinky\", \"baker\", \"butch\"], 'bonds',\"_____\"))\n",
    "\n",
    "print(only_words_that_fit_feedback([\"pinky\", \"baker\", \"butch\"], 'brink',\"*.__.\"))\n",
    "print(only_words_that_fit_feedback([\"pinky\", \"baker\", \"butch\"], 'bring',\"*.__.\"))"
   ]
  },
  {
   "cell_type": "code",
   "execution_count": null,
   "id": "b3dc82ba",
   "metadata": {},
   "outputs": [],
   "source": [
    "assert only_words_that_fit_feedback([\"pinky\", \"baker\", \"butch\"],'bonds',\"*____\") == set([\"baker\",\"butch\"])\n",
    "assert only_words_that_fit_feedback([\"pinky\", \"baker\", \"butch\"],'bonds',\"__*__\") == set([\"pinky\"])\n",
    "assert only_words_that_fit_feedback([\"pinky\", \"baker\", \"butch\"],'bonds',\"_.._.\") == set()\n",
    "print(\"tests passed\")"
   ]
  },
  {
   "cell_type": "code",
   "execution_count": null,
   "id": "a53bb927",
   "metadata": {
    "nbgrader": {
     "grade": false,
     "grade_id": "cell-e275e094b6844bba",
     "locked": false,
     "schema_version": 3,
     "solution": true,
     "task": false
    }
   },
   "outputs": [],
   "source": [
    "# notice in here all guess-feedback pairs are given to you as a dictionary!\n",
    "# key is a guess, value is a feedback: like {\"boing\":\"*____\",\"borgs\":\"*___*\"}\n",
    "\n",
    "def only_words_that_fit_many_feedbacks(all_words, guess_feedbacks):\n",
    "    ### BEGIN SOLUTION\n",
    "    include_groups = [ only_words_that_fit_feedback(all_words, guess, feedback)\n",
    "        for (guess, feedback) in guess_feedbacks.items()]\n",
    "    \n",
    "    return overlap_word_lists(include_groups)\n",
    "    ### END SOLUTION\n",
    "    \n",
    "print(only_words_that_fit_many_feedbacks([\"bills\", \"baker\",\"baths\"], {\"boing\":\"*_.__\"}))\n",
    "print(only_words_that_fit_many_feedbacks([\"bills\", \"baker\",\"baths\"], {\"boing\":\"*____\"}))\n",
    "print(only_words_that_fit_many_feedbacks([\"bills\", \"baker\",\"baths\"], {\"boing\":\"*____\",\"borgs\":\"*___*\"}))"
   ]
  },
  {
   "cell_type": "code",
   "execution_count": null,
   "id": "56e4fc33",
   "metadata": {},
   "outputs": [],
   "source": [
    "some_words = [\"bills\", \"baker\",\"baths\"]\n",
    "assert only_words_that_fit_many_feedbacks(some_words, {\"boing\":\"*_.__\"}) == set(['bills'])\n",
    "assert only_words_that_fit_many_feedbacks(some_words, {\"boing\":\"*____\"}) == set(['baker', 'baths'])\n",
    "assert only_words_that_fit_many_feedbacks(some_words, {\"boing\":\"*____\",\"borgs\":\"*___*\"}) == set(['baths'])"
   ]
  },
  {
   "cell_type": "markdown",
   "id": "52ae8bb8",
   "metadata": {},
   "source": [
    "### Game dynamic\n",
    "\n",
    "For the final part:\n",
    "\n",
    "1. Have a look at the solution of the game below (which uses function that you wrote)\n",
    "2. Notice the part that we will be improving\n",
    "3. Run it a few times\n",
    "4. Then run the bottom part called 'optimisation'\n",
    "5. Then we will start improving the solution"
   ]
  },
  {
   "cell_type": "code",
   "execution_count": null,
   "id": "e6251e19",
   "metadata": {},
   "outputs": [],
   "source": [
    "def pick_next_guess(words_left, feedback_history):\n",
    "    # Initially, just pick a random word that is left. We will improve this later. \n",
    "    return get_random_word_from(words_left)\n",
    "\n",
    "print(pick_next_guess([\"bills\", \"baker\",\"baths\"], {\"boing\":\"*____\"}))\n",
    "# run it a few times to see what happens. Note that currently feedback_history is not used"
   ]
  },
  {
   "cell_type": "code",
   "execution_count": null,
   "id": "bcd0eccf",
   "metadata": {},
   "outputs": [],
   "source": [
    "# this function takes words left, the answer and previous history\n",
    "# will perform a guess, and will return new words left, and new history (with new guess and feedback)\n",
    "\n",
    "def make_a_guess(words_left, answer, feedback_history, show_logs = True):\n",
    "#     print(f\"words left pre: {words_left}\")\n",
    "    guess = pick_next_guess(words_left, feedback_history) # this is the function we will be improving!\n",
    "    feedback = get_word_feedback(guess, answer)\n",
    "    feedback_history[guess] = feedback \n",
    "    # add new feedback to history. format is {guess1: feedback1, guess2: feedback2}\n",
    "    \n",
    "    words_left = only_words_that_fit_many_feedbacks(words_left, feedback_history)\n",
    "\n",
    "    if guess in words_left:\n",
    "        words_left.remove(guess)\n",
    "        \n",
    "    if show_logs:\n",
    "        print(f\"I guess {guess} and feedback was {feedback}   {len(words_left):>3} more options left\")\n",
    "        if len(words_left) < 12:\n",
    "            print(f\"words left are: {words_left}\")\n",
    "\n",
    "    return (words_left,feedback_history)\n",
    "\n",
    "    # note: in python it is possible to return many things from a function, \n",
    "    # as long as they are in a collection. see it used below\n",
    "    \n",
    "make_a_guess([\"bills\", \"baker\",\"baths\",\"burow\"], 'baker', {\"boing\":\"*____\"})\n",
    "# function returns 2 things: set of options, and new history. Run it a few times"
   ]
  },
  {
   "cell_type": "code",
   "execution_count": null,
   "id": "2bd16515",
   "metadata": {},
   "outputs": [],
   "source": [
    "def play_game(show_logs = True):   # if no answer is given, code will pick a random one\n",
    "#     all_possible_words = get_simple_words_wordle() # play with a set of 600 words\n",
    "    all_possible_words = get_complicated_words() # or play with a set of 10000\n",
    "    answer = get_random_word_from(all_possible_words)\n",
    "\n",
    "    if show_logs:\n",
    "        print(f\"shhhh.. {answer} is the secret!   {answer} {len(all_possible_words):>3} more options left\")\n",
    "        \n",
    "    len(\"all_possible_words\")\n",
    "\n",
    "    words_left = all_possible_words\n",
    "    history = {}\n",
    "    steps = 0\n",
    "    while len(words_left) >= 1:\n",
    "        (words_left, history) = make_a_guess(words_left, answer, history, show_logs)\n",
    "        steps += 1\n",
    "        if len(words_left) <= 1:\n",
    "            break\n",
    "\n",
    "    if show_logs:\n",
    "        print(f\"YAY! YOU WIN! in {steps} steps!\")\n",
    "        print()\n",
    "    return steps\n",
    "\n",
    "print(play_game())"
   ]
  },
  {
   "cell_type": "code",
   "execution_count": null,
   "id": "f3b0fb16",
   "metadata": {},
   "outputs": [],
   "source": []
  },
  {
   "cell_type": "code",
   "execution_count": null,
   "id": "e8fccd67",
   "metadata": {},
   "outputs": [],
   "source": [
    "print(play_game())\n",
    "print(play_game())\n",
    "print(play_game())"
   ]
  },
  {
   "cell_type": "code",
   "execution_count": null,
   "id": "38e0f34f",
   "metadata": {},
   "outputs": [],
   "source": [
    "# but you can also run it without all the printing\n",
    "print(play_game(False))\n",
    "print(play_game(False))\n",
    "print(play_game(False))"
   ]
  },
  {
   "cell_type": "markdown",
   "id": "ddcc84fd",
   "metadata": {},
   "source": [
    "### Optimisation"
   ]
  },
  {
   "cell_type": "code",
   "execution_count": null,
   "id": "962586d8",
   "metadata": {},
   "outputs": [],
   "source": [
    "# how efficient is our solution? run it many times, \n",
    "# and count average number of guessess needed to win\n",
    "\n",
    "def average_score_of_games(how_many = 1):\n",
    "    scores = []\n",
    "    for _ in range(how_many):\n",
    "        print(\".\", end=\"\")\n",
    "        score = play_game(False)\n",
    "        scores.append(score)\n",
    "    print(\" finished\\n\", end=\"\")\n",
    "\n",
    "    average_score  = sum(scores) / len(scores)\n",
    "    print(f\"average score was: {average_score}\" )\n",
    "    print(f\"all scores: {scores}\" )\n",
    "    return average_score\n",
    "\n",
    "print(average_score_of_games(50))\n",
    "# write down the result and run it again a few times. Write down the result each time.\n",
    "# then change number of runs (10) to something like 100. Run it a few times, what do you see?"
   ]
  },
  {
   "cell_type": "markdown",
   "id": "dd4b54a2",
   "metadata": {},
   "source": [
    "### The fun part: improve the 'random guess' solution\n",
    "\n",
    "think about it: what would be better than just picking a random word? Here are some ideas:\n",
    "\n",
    "- prioritise words that do not have repeated letters (so you don't waste feedback characters)\n",
    "- prioritise words that have letters popular in the wordset (so your feedback applies to more words)\n",
    "- prioritise words that have a letter in a position more common with other simmilar words (eg. if many leftovers start with B, and you do not know if secret starts with B, make a guess which starts with B)"
   ]
  },
  {
   "cell_type": "code",
   "execution_count": null,
   "id": "ced28b88",
   "metadata": {},
   "outputs": [],
   "source": []
  },
  {
   "cell_type": "code",
   "execution_count": null,
   "id": "811d03a2",
   "metadata": {},
   "outputs": [],
   "source": [
    "# how can you improve this function?\n",
    "\n",
    "def pick_next_guess(words_left, feedback_history):\n",
    "    #     change this function. See hints above\n",
    "    return get_random_word_from(words_left)\n",
    "\n",
    "\n",
    "# once you improved it, run this cell rto play the game:\n",
    "play_game() # one time\n",
    "print()\n",
    "average_score_of_games(10) # many times"
   ]
  },
  {
   "cell_type": "code",
   "execution_count": null,
   "id": "026d9b07",
   "metadata": {},
   "outputs": [],
   "source": []
  }
 ],
 "metadata": {
  "celltoolbar": "Create Assignment",
  "kernelspec": {
   "display_name": "Python 3 (ipykernel)",
   "language": "python",
   "name": "python3"
  },
  "language_info": {
   "codemirror_mode": {
    "name": "ipython",
    "version": 3
   },
   "file_extension": ".py",
   "mimetype": "text/x-python",
   "name": "python",
   "nbconvert_exporter": "python",
   "pygments_lexer": "ipython3",
   "version": "3.9.13"
  }
 },
 "nbformat": 4,
 "nbformat_minor": 5
}
